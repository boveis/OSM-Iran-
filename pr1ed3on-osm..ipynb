{
  "cells": [
    {
      "cell_type": "code",
      "execution_count": null,
      "metadata": {
        "autoscroll": "auto",
        "vscode": {
          "languageId": "json"
        }
      },
      "outputs": [],
      "source": [
        "%pyspark\n",
        "#au nom de Dieu\n",
        "import numpy as np\n",
        "import pandas as pd\n",
        "import os\n",
        "import psycopg2\n",
        "import seaborn as sns\n"
      ]
    },
    {
      "cell_type": "markdown",
      "metadata": {},
      "source": [
        "part Iran to  a table with 163 rows and 170 culomns(every cell edge has 10km length )"
      ]
    },
    {
      "cell_type": "code",
      "execution_count": 1,
      "metadata": {
        "autoscroll": "auto",
        "vscode": {
          "languageId": "json"
        }
      },
      "outputs": [],
      "source": [
        "%pyspark\n",
        "n = 170\n",
        "m = 163\n"
      ]
    },
    {
      "cell_type": "code",
      "execution_count": 2,
      "metadata": {
        "autoscroll": "auto",
        "vscode": {
          "languageId": "json"
        }
      },
      "outputs": [],
      "source": [
        "%pyspark\n",
        "cor = np.zeros((m,n,4))\n",
        "ans = np.zeros((m,n))\n"
      ]
    },
    {
      "cell_type": "code",
      "execution_count": 5,
      "metadata": {
        "autoscroll": "auto",
        "vscode": {
          "languageId": "json"
        }
      },
      "outputs": [],
      "source": [
        "%pyspark\n",
        "\n",
        "#1625 km LAT  1700 km LONG\n",
        "lat_max = 39.7528786561\n",
        "lat_min = 25.13707533166\n",
        "long_max = 63.739859817\n",
        "long_min = 43.801871000\n",
        "x = long_min\n",
        "for j in range(m):\n",
        "        cor[j][0][3]=x\n",
        "x+=d_long    \n",
        "for i in range(1,n):\n",
        "    for j in range(m):\n",
        "        cor[j][i-1][2]=x\n",
        "        cor[j][i][3]=x\n",
        "    x+=d_long            \n",
        "for j in range(m):\n",
        "        cor[j][n-1][2]=x    \n",
        "\n",
        "        x = lat_max \n",
        "for j in range(n):\n",
        "    cor[0][j][1]=x\n",
        "x-=d_lat\n",
        "for i in range(1,m):\n",
        "    for j in range(n):\n",
        "        cor[i-1][j][0]=x\n",
        "        cor[i][j][1]=x\n",
        "    x-=d_lat    \n",
        "for j in range(n):\n",
        "    cor[m-1][j][0]=x\n",
        "\n"
      ]
    },
    {
      "cell_type": "markdown",
      "metadata": {},
      "source": [
        "finding bound of courdinates in each cell and store in cor array"
      ]
    },
    {
      "cell_type": "code",
      "execution_count": 18,
      "metadata": {
        "autoscroll": "auto",
        "vscode": {
          "languageId": "json"
        }
      },
      "outputs": [],
      "source": [
        "%pyspark\n",
        "df = pd.read_csv('/people/Bahar/mid-lenIran.csv')\n"
      ]
    },
    {
      "cell_type": "code",
      "execution_count": 19,
      "metadata": {
        "autoscroll": "auto",
        "vscode": {
          "languageId": "json"
        }
      },
      "outputs": [],
      "source": [
        "%pyspark\n",
        "ans_df = pd.DataFrame(ans)\n",
        "for  i in range(m):\n",
        "    for j in range(n):\n",
        "        valid_table = df.loc[(df.lat<cor[i][j][1]) & (df.lat>cor[i][j][0]) & (df.long<cor[i][j][2]) & (df.long>cor[i][j][3])]\n",
        "        df = df.loc[(df.lat>cor[i][j][1]) | (df.lat<cor[i][j][0]) | (df.long>cor[i][j][2]) | (df.long<cor[i][j][3])]\n",
        "        ans[i][j]=valid_table.length.sum()\n",
        "        \n",
        "\n"
      ]
    },
    {
      "cell_type": "code",
      "execution_count": null,
      "metadata": {
        "vscode": {
          "languageId": "json"
        }
      },
      "outputs": [],
      "source": [
        "\n",
        "ans_df.to_csv('/people/Bahar/pr1ed3on-osm.csv', index=False)\n"
      ]
    },
    {
      "cell_type": "code",
      "execution_count": 23,
      "metadata": {
        "autoscroll": "auto",
        "vscode": {
          "languageId": "json"
        }
      },
      "outputs": [],
      "source": [
        "%pyspark\n",
        "ax = sns.heatmap(ans)\n",
        "ax"
      ]
    }
  ],
  "metadata": {
    "kernelspec": {
      "language": "scala",
      "name": "spark2-scala"
    },
    "language_info": {
      "codemirror_mode": "text/x-scala",
      "file_extension": ".scala",
      "mimetype": "text/x-scala",
      "name": "scala",
      "pygments_lexer": "scala"
    },
    "name": "pr1ed3on-osm"
  },
  "nbformat": 4,
  "nbformat_minor": 2
}
